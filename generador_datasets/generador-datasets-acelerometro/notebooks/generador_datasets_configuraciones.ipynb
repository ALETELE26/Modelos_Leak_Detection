# Importar las bibliotecas necesarias
import h5py
import numpy as np
import json
import tensorflow as tf
from sklearn.model_selection import train_test_split
from tensorflow.keras.utils import to_categorical
import matplotlib.pyplot as plt

# Función para cargar y normalizar el dataset
def load_and_normalize_dataset(file_path, num_samples, num_scales):
    with h5py.File(file_path, 'r') as hf:
        # Cargar escalogramas y etiquetas
        x = np.array(hf['train']['scalograms'])[:num_samples, :num_scales, :]
        y = np.array(hf['train']['labels'])[:num_samples]

        # Normalizar los datos
        max_value = np.max(x)
        x = x.astype('float32') / max_value

        # Convertir etiquetas a formato one-hot
        num_classes = len(np.unique(y))
        y = to_categorical(y, num_classes)

    return x, y, num_classes

# Configuraciones de prueba
configurations = [
    (64, 100),
    (128, 50),
    (512, 13),
    (1024, 6)
]

file_path = '/content/drive/MyDrive/Tesis/Accelerometer_Dataset/accelerometer_BR_256NS_20Scales_cwt_dataset.h5'

# Almacenar resultados
results = []

for num_samples, num_scales in configurations:
    print(f"Configuración: {num_samples} muestras, {num_scales} escalas")
    
    # Cargar y normalizar el dataset
    x, y, num_classes = load_and_normalize_dataset(file_path, num_samples, num_scales)
    
    # Separar en conjuntos de entrenamiento y prueba
    x_train, x_test, y_train, y_test = train_test_split(x, y, test_size=0.2, random_state=42, stratify=y)

    # Aquí se puede incluir el código para entrenar el modelo CNN
    # tiny_cnn = create_tiny_cnn_model(input_shape=x_train.shape[1:], num_classes=num_classes)
    # tiny_cnn.compile(optimizer='adam', loss='categorical_crossentropy', metrics=['accuracy'])
    # history = tiny_cnn.fit(x_train, y_train, validation_data=(x_test, y_test), epochs=10, batch_size=32)

    # Evaluar el modelo y almacenar la precisión
    # test_loss, test_acc = tiny_cnn.evaluate(x_test, y_test)
    # results.append((num_samples, num_scales, test_acc))

# Mostrar resultados
# for result in results:
#     print(f"Muestras: {result[0]}, Escalas: {result[1]}, Precisión: {result[2]:.4f}")