{
  "nbformat": 4,
  "nbformat_minor": 0,
  "metadata": {
    "colab": {
      "provenance": [],
      "gpuType": "T4"
    },
    "kernelspec": {
      "name": "python3",
      "display_name": "Python 3"
    },
    "language_info": {
      "name": "python"
    },
    "accelerator": "GPU"
  },
  "cells": [
    {
      "cell_type": "markdown",
      "source": [
        "#Importando los modulos necesarios"
      ],
      "metadata": {
        "id": "qWy8d-iwOcyi"
      }
    },
    {
      "cell_type": "code",
      "source": [
        "# Instalación de dependencias\n",
        "!pip install qkeras keras-tuner"
      ],
      "metadata": {
        "colab": {
          "base_uri": "https://localhost:8080/"
        },
        "id": "gwEHLifdl34R",
        "outputId": "85ae6242-a012-43fc-ba88-8c8fb3f1084d"
      },
      "execution_count": 1,
      "outputs": [
        {
          "output_type": "stream",
          "name": "stdout",
          "text": [
            "Requirement already satisfied: qkeras in /usr/local/lib/python3.11/dist-packages (0.9.0)\n",
            "Requirement already satisfied: keras-tuner in /usr/local/lib/python3.11/dist-packages (1.4.7)\n",
            "Requirement already satisfied: numpy>=1.16.0 in /usr/local/lib/python3.11/dist-packages (from qkeras) (1.26.4)\n",
            "Requirement already satisfied: scipy>=1.4.1 in /usr/local/lib/python3.11/dist-packages (from qkeras) (1.14.1)\n",
            "Requirement already satisfied: pyparser in /usr/local/lib/python3.11/dist-packages (from qkeras) (1.0)\n",
            "Requirement already satisfied: setuptools>=41.0.0 in /usr/local/lib/python3.11/dist-packages (from qkeras) (75.1.0)\n",
            "Requirement already satisfied: tensorflow-model-optimization>=0.2.1 in /usr/local/lib/python3.11/dist-packages (from qkeras) (0.8.0)\n",
            "Requirement already satisfied: networkx>=2.1 in /usr/local/lib/python3.11/dist-packages (from qkeras) (3.4.2)\n",
            "Requirement already satisfied: scikit-learn>=0.23.1 in /usr/local/lib/python3.11/dist-packages (from qkeras) (1.6.1)\n",
            "Requirement already satisfied: tqdm>=4.48.0 in /usr/local/lib/python3.11/dist-packages (from qkeras) (4.67.1)\n",
            "Requirement already satisfied: keras in /usr/local/lib/python3.11/dist-packages (from keras-tuner) (3.8.0)\n",
            "Requirement already satisfied: packaging in /usr/local/lib/python3.11/dist-packages (from keras-tuner) (24.2)\n",
            "Requirement already satisfied: requests in /usr/local/lib/python3.11/dist-packages (from keras-tuner) (2.32.3)\n",
            "Requirement already satisfied: kt-legacy in /usr/local/lib/python3.11/dist-packages (from keras-tuner) (1.0.5)\n",
            "Requirement already satisfied: joblib>=1.2.0 in /usr/local/lib/python3.11/dist-packages (from scikit-learn>=0.23.1->qkeras) (1.4.2)\n",
            "Requirement already satisfied: threadpoolctl>=3.1.0 in /usr/local/lib/python3.11/dist-packages (from scikit-learn>=0.23.1->qkeras) (3.5.0)\n",
            "Requirement already satisfied: absl-py~=1.2 in /usr/local/lib/python3.11/dist-packages (from tensorflow-model-optimization>=0.2.1->qkeras) (1.4.0)\n",
            "Requirement already satisfied: dm-tree~=0.1.1 in /usr/local/lib/python3.11/dist-packages (from tensorflow-model-optimization>=0.2.1->qkeras) (0.1.9)\n",
            "Requirement already satisfied: six~=1.14 in /usr/local/lib/python3.11/dist-packages (from tensorflow-model-optimization>=0.2.1->qkeras) (1.17.0)\n",
            "Requirement already satisfied: rich in /usr/local/lib/python3.11/dist-packages (from keras->keras-tuner) (13.9.4)\n",
            "Requirement already satisfied: namex in /usr/local/lib/python3.11/dist-packages (from keras->keras-tuner) (0.0.8)\n",
            "Requirement already satisfied: h5py in /usr/local/lib/python3.11/dist-packages (from keras->keras-tuner) (3.12.1)\n",
            "Requirement already satisfied: optree in /usr/local/lib/python3.11/dist-packages (from keras->keras-tuner) (0.14.1)\n",
            "Requirement already satisfied: ml-dtypes in /usr/local/lib/python3.11/dist-packages (from keras->keras-tuner) (0.4.1)\n",
            "Requirement already satisfied: parse==1.6.5 in /usr/local/lib/python3.11/dist-packages (from pyparser->qkeras) (1.6.5)\n",
            "Requirement already satisfied: charset-normalizer<4,>=2 in /usr/local/lib/python3.11/dist-packages (from requests->keras-tuner) (3.4.1)\n",
            "Requirement already satisfied: idna<4,>=2.5 in /usr/local/lib/python3.11/dist-packages (from requests->keras-tuner) (3.10)\n",
            "Requirement already satisfied: urllib3<3,>=1.21.1 in /usr/local/lib/python3.11/dist-packages (from requests->keras-tuner) (2.3.0)\n",
            "Requirement already satisfied: certifi>=2017.4.17 in /usr/local/lib/python3.11/dist-packages (from requests->keras-tuner) (2025.1.31)\n",
            "Requirement already satisfied: attrs>=18.2.0 in /usr/local/lib/python3.11/dist-packages (from dm-tree~=0.1.1->tensorflow-model-optimization>=0.2.1->qkeras) (25.1.0)\n",
            "Requirement already satisfied: wrapt>=1.11.2 in /usr/local/lib/python3.11/dist-packages (from dm-tree~=0.1.1->tensorflow-model-optimization>=0.2.1->qkeras) (1.17.2)\n",
            "Requirement already satisfied: typing-extensions>=4.5.0 in /usr/local/lib/python3.11/dist-packages (from optree->keras->keras-tuner) (4.12.2)\n",
            "Requirement already satisfied: markdown-it-py>=2.2.0 in /usr/local/lib/python3.11/dist-packages (from rich->keras->keras-tuner) (3.0.0)\n",
            "Requirement already satisfied: pygments<3.0.0,>=2.13.0 in /usr/local/lib/python3.11/dist-packages (from rich->keras->keras-tuner) (2.18.0)\n",
            "Requirement already satisfied: mdurl~=0.1 in /usr/local/lib/python3.11/dist-packages (from markdown-it-py>=2.2.0->rich->keras->keras-tuner) (0.1.2)\n"
          ]
        }
      ]
    },
    {
      "cell_type": "code",
      "execution_count": 2,
      "metadata": {
        "id": "z0NQ9qejK1UJ"
      },
      "outputs": [],
      "source": [
        "    import h5py\n",
        "    import numpy as np\n",
        "    import json\n",
        "    import tensorflow as tf\n",
        "    from tensorflow.keras.callbacks import EarlyStopping, ReduceLROnPlateau, ModelCheckpoint\n",
        "    from tensorflow.keras.layers import Input, MaxPooling2D, Flatten, Dropout, Add\n",
        "    from tensorflow.keras.models import Model\n",
        "    import matplotlib.pyplot as plt\n",
        "    from qkeras import *\n",
        "    import keras_tuner as kt"
      ]
    },
    {
      "cell_type": "markdown",
      "source": [
        "#Cargando el dataset de escalogramas"
      ],
      "metadata": {
        "id": "d0FAYi3SQCgi"
      }
    },
    {
      "cell_type": "code",
      "source": [
        "\n",
        "\n",
        "from google.colab import drive\n",
        "drive.mount('/content/drive')\n",
        "\n",
        "file_path = '/content/drive/MyDrive/Tesis/Accelerometer_Dataset/accelerometer_BR_256NS_20Scales_cwt_dataset.h5'\n"
      ],
      "metadata": {
        "colab": {
          "base_uri": "https://localhost:8080/"
        },
        "id": "QkfPdEQKQQOY",
        "outputId": "331b99a5-9d3b-4e38-cc27-f700d56676b8"
      },
      "execution_count": 3,
      "outputs": [
        {
          "output_type": "stream",
          "name": "stdout",
          "text": [
            "Drive already mounted at /content/drive; to attempt to forcibly remount, call drive.mount(\"/content/drive\", force_remount=True).\n"
          ]
        }
      ]
    },
    {
      "cell_type": "code",
      "source": [
        "def load_cwt_dataset(file_path='accelerometer_cwt_dataset.h5'):\n",
        "    \"\"\"\n",
        "    Carga el dataset de escalogramas desde un archivo HDF5 y lo prepara para Keras.\n",
        "\n",
        "    Args:\n",
        "        file_path: Ruta al archivo HDF5\n",
        "\n",
        "    Returns:\n",
        "        dataset: Un diccionario con los datos y metadatos\n",
        "    \"\"\"\n",
        "\n",
        "\n",
        "    with h5py.File(file_path, 'r') as hf:\n",
        "        # Cargar escalogramas y etiquetas\n",
        "        x_train = np.array(hf['train']['scalograms'])\n",
        "        y_train = np.array(hf['train']['labels'])\n",
        "        x_test = np.array(hf['test']['scalograms'])\n",
        "        y_test = np.array(hf['test']['labels'])\n",
        "\n",
        "        # Cargar metadatos\n",
        "        num_classes = hf['metadata']['num_classes'][()]\n",
        "        shape = tuple(hf['metadata']['shape'][()])\n",
        "\n",
        "        # Cargar diccionario de etiquetas\n",
        "        label_codes_dict = json.loads(hf['metadata'].attrs['label_codes_dict'])\n",
        "\n",
        "    # Organizar datos como un dataset tipo Keras\n",
        "    dataset = {\n",
        "        'train': (x_train, y_train),\n",
        "        'test': (x_test, y_test),\n",
        "        'num_classes': num_classes,\n",
        "        'input_shape': shape,\n",
        "        'label_codes_dict': label_codes_dict\n",
        "    }\n",
        "\n",
        "    print(f\"Dataset cargado: {x_train.shape[0]} muestras de entrenamiento, {x_test.shape[0]} muestras de prueba\")\n",
        "    print(f\"Forma de cada escalograma: {shape}\")\n",
        "    print(f\"Número de clases: {num_classes}\")\n",
        "\n",
        "    return dataset\n",
        "\n",
        ""
      ],
      "metadata": {
        "id": "_QCaZ9PdOwpk"
      },
      "execution_count": 4,
      "outputs": []
    },
    {
      "cell_type": "code",
      "source": [
        "# Carga el dataset\n",
        "dataset = load_cwt_dataset(file_path)\n",
        "\n",
        "# Obtén las partes del dataset\n",
        "x_train, y_train = dataset['train']\n",
        "x_test, y_test = dataset['test']\n",
        "input_shape = dataset['input_shape']\n",
        "num_classes = dataset['num_classes']"
      ],
      "metadata": {
        "colab": {
          "base_uri": "https://localhost:8080/"
        },
        "id": "ajCrqRAcSP9k",
        "outputId": "0eaa8dda-cb7d-49ad-c6a5-52ad56154662"
      },
      "execution_count": 5,
      "outputs": [
        {
          "output_type": "stream",
          "name": "stdout",
          "text": [
            "Dataset cargado: 96000 muestras de entrenamiento, 24000 muestras de prueba\n",
            "Forma de cada escalograma: (20, 256)\n",
            "Número de clases: 5\n"
          ]
        }
      ]
    },
    {
      "cell_type": "markdown",
      "source": [
        "#Preparar las etiquetas con one-hot encoding"
      ],
      "metadata": {
        "id": "wVbk7WdRYJqD"
      }
    },
    {
      "cell_type": "code",
      "source": [
        "# Convertir etiquetas a formato one-hot\n",
        "from tensorflow.keras.utils import to_categorical\n",
        "\n",
        "# Verificar la forma actual de las etiquetas\n",
        "print(\"Forma original de y_train:\", y_train.shape)\n",
        "print(\"Primeros 5 valores de y_train:\", y_train[:5])\n",
        "\n",
        "# Convertir etiquetas a formato one-hot\n",
        "y_train = to_categorical(y_train, num_classes)\n",
        "y_test = to_categorical(y_test, num_classes)\n",
        "\n",
        "# Verificar la nueva forma\n",
        "print(\"Nueva forma de y_train:\", y_train.shape)\n",
        "print(\"Primeros 5 valores de y_train:\", y_train[:5])"
      ],
      "metadata": {
        "colab": {
          "base_uri": "https://localhost:8080/"
        },
        "id": "liggasglYS68",
        "outputId": "ce161c66-6d36-4f92-cd88-530f42614f28"
      },
      "execution_count": 6,
      "outputs": [
        {
          "output_type": "stream",
          "name": "stdout",
          "text": [
            "Forma original de y_train: (96000,)\n",
            "Primeros 5 valores de y_train: [4 0 4 2 2]\n",
            "Nueva forma de y_train: (96000, 5)\n",
            "Primeros 5 valores de y_train: [[0. 0. 0. 0. 1.]\n",
            " [1. 0. 0. 0. 0.]\n",
            " [0. 0. 0. 0. 1.]\n",
            " [0. 0. 1. 0. 0.]\n",
            " [0. 0. 1. 0. 0.]]\n"
          ]
        }
      ]
    },
    {
      "cell_type": "markdown",
      "source": [
        "#Verificando la normalización de los datos"
      ],
      "metadata": {
        "id": "F0-d98e7aDvU"
      }
    },
    {
      "cell_type": "code",
      "source": [
        "# Verificar si los datos ya están normalizados\n",
        "print(\"Estado actual de los datos:\")\n",
        "print(\"Valor máximo en x_train:\", np.max(x_train))\n",
        "print(\"Valor mínimo en x_train:\", np.min(x_train))\n",
        "print(\"Media de x_train:\", np.mean(x_train))\n",
        "print(\"Desviación estándar de x_train:\", np.std(x_train))\n",
        "\n",
        "# Visualizar la distribución de valores\n",
        "plt.figure(figsize=(10, 4))\n",
        "plt.hist(x_train.flatten(), bins=50)\n",
        "plt.title('Distribución de valores en x_train')\n",
        "plt.xlabel('Valor')\n",
        "plt.ylabel('Frecuencia')\n",
        "plt.show()"
      ],
      "metadata": {
        "colab": {
          "base_uri": "https://localhost:8080/",
          "height": 500
        },
        "id": "jHGpULI8aK3K",
        "outputId": "8b491c50-7f9b-4153-c8ce-ece913fb21c8"
      },
      "execution_count": 7,
      "outputs": [
        {
          "output_type": "stream",
          "name": "stdout",
          "text": [
            "Estado actual de los datos:\n",
            "Valor máximo en x_train: 22.972864\n",
            "Valor mínimo en x_train: 1.7875869e-10\n",
            "Media de x_train: 0.18690377\n",
            "Desviación estándar de x_train: 0.49832457\n"
          ]
        },
        {
          "output_type": "display_data",
          "data": {
            "text/plain": [
              "<Figure size 1000x400 with 1 Axes>"
            ],
            "image/png": "[encoded data removed]"
          },
          "metadata": {}
        }
      ]
    },
    {
      "cell_type": "markdown",
      "source": [
        "#No estan normalizado, a normalizar!!"
      ],
      "metadata": {
        "id": "Sounit5YbD9m"
      }
    },
    {
      "cell_type": "code",
      "source": [
        "# Normalizar los datos de entrada usando el máximo de x_train para ambos conjuntos\n",
        "max_value = np.max(x_train)  # Usar sólo el conjunto de entrenamiento para calcular el valor\n",
        "\n",
        "# Convertir a float32 y normalizar\n",
        "x_train = x_train.astype('float32') / max_value\n",
        "x_test = x_test.astype('float32') / max_value  # Usar el mismo valor para test\n",
        "\n",
        "print(\"Después de normalizar:\")\n",
        "print(\"Valor máximo en x_train:\", np.max(x_train))\n",
        "print(\"Valor mínimo en x_train:\", np.min(x_train))\n",
        "print(\"Valor máximo en x_test:\", np.max(x_test))\n",
        "print(\"Valor mínimo en x_test:\", np.min(x_test))"
      ],
      "metadata": {
        "colab": {
          "base_uri": "https://localhost:8080/"
        },
        "id": "BW311Ut4bJ6C",
        "outputId": "d932cf76-4a8d-402b-daa4-6d9dd1cf8776"
      },
      "execution_count": 8,
      "outputs": [
        {
          "output_type": "stream",
          "name": "stdout",
          "text": [
            "Después de normalizar:\n",
            "Valor máximo en x_train: 1.0\n",
            "Valor mínimo en x_train: 7.781297e-12\n",
            "Valor máximo en x_test: 0.37690073\n",
            "Valor mínimo en x_test: 1.8382905e-11\n"
          ]
        }
      ]
    },
    {
      "cell_type": "markdown",
      "source": [
        "#Adaptando los datos para el modelo CNN"
      ],
      "metadata": {
        "id": "OQnhPxKrcfjq"
      }
    },
    {
      "cell_type": "code",
      "source": [
        "print(\"Forma de x_train:\", x_train.shape)\n",
        "print(\"Forma de y_train:\", y_train.shape)\n",
        "print(\"Forma de x_test:\", x_test.shape)\n",
        "print(\"Forma de y_test:\", y_test.shape)\n",
        "# Adaptar dimensiones para CNN (necesitamos un canal)\n",
        "# Asumiendo que las dimensiones actuales son (n_samples, scales, time_steps)\n",
        "x_train = x_train.reshape(x_train.shape[0], x_train.shape[1], x_train.shape[2], 1)\n",
        "x_test = x_test.reshape(x_test.shape[0], x_test.shape[1], x_test.shape[2], 1)\n",
        "\n",
        "print(\"Forma final de x_train:\", x_train.shape)\n",
        "print(\"Forma final de x_test:\", x_test.shape)"
      ],
      "metadata": {
        "colab": {
          "base_uri": "https://localhost:8080/"
        },
        "id": "ig1FtbvWcCWS",
        "outputId": "23c038d5-cc78-480e-c86e-d1f01f28b34a"
      },
      "execution_count": 9,
      "outputs": [
        {
          "output_type": "stream",
          "name": "stdout",
          "text": [
            "Forma de x_train: (96000, 20, 256)\n",
            "Forma de y_train: (96000, 5)\n",
            "Forma de x_test: (24000, 20, 256)\n",
            "Forma de y_test: (24000, 5)\n",
            "Forma final de x_train: (96000, 20, 256, 1)\n",
            "Forma final de x_test: (24000, 20, 256, 1)\n"
          ]
        }
      ]
    },
    {
      "cell_type": "markdown",
      "source": [
        "#Separamos una parte de los datos para la validacion del modelo"
      ],
      "metadata": {
        "id": "vZbtscxMdrkW"
      }
    },
    {
      "cell_type": "code",
      "source": [
        "from sklearn.model_selection import train_test_split\n",
        "\n",
        "# Dividir los datos\n",
        "x_train_final, x_val, y_train_final, y_val = train_test_split(\n",
        "    x_train, y_train,\n",
        "    test_size=0.2,  # 20% para validación\n",
        "    random_state=42,  # Para reproducibilidad\n",
        "    stratify=y_train  # Mantener la distribución de clases\n",
        ")\n",
        "\n",
        "# Verificar tamaños\n",
        "print(f\"Datos de entrenamiento: {x_train_final.shape[0]} muestras\")\n",
        "print(f\"Datos de validación: {x_val.shape[0]} muestras\")"
      ],
      "metadata": {
        "colab": {
          "base_uri": "https://localhost:8080/"
        },
        "id": "RHz0TrT6dz_N",
        "outputId": "bb0b59d8-ae20-4205-d6ed-6d999e3b777b"
      },
      "execution_count": 10,
      "outputs": [
        {
          "output_type": "stream",
          "name": "stdout",
          "text": [
            "Datos de entrenamiento: 76800 muestras\n",
            "Datos de validación: 19200 muestras\n"
          ]
        }
      ]
    },
    {
      "cell_type": "markdown",
      "source": [
        "# Definiendo los bloques convolucionales de mi modelo"
      ],
      "metadata": {
        "id": "iyc4e56ZrmTt"
      }
    },
    {
      "cell_type": "code",
      "source": [
        "def create_qconv_block(inputs, filters, kernel_size=3, strides=1,\n",
        "                     use_residual=True, use_maxpool=False):\n",
        "    \"\"\"\n",
        "    Bloque convolucional compatible con STM32\n",
        "    \"\"\"\n",
        "    # Para capas intermedias, usar binary(alpha=1) para tipo s1\n",
        "    x = QConv2D(filters=filters,\n",
        "                kernel_size=kernel_size,\n",
        "                strides=strides,\n",
        "                padding='same',\n",
        "                kernel_quantizer=\"binary(alpha=1)\",\n",
        "                bias_quantizer=\"binary(alpha=1)\",\n",
        "                use_bias=False)(inputs)\n",
        "\n",
        "    # MaxPool antes de BatchNorm (como en el snippet)\n",
        "    if use_maxpool:\n",
        "        x = MaxPooling2D(pool_size=(2, 2))(x)\n",
        "\n",
        "    x = QBatchNormalization()(x)\n",
        "    x = QActivation(\"binary(alpha=1)\")(x)\n",
        "\n",
        "    # Conexión residual cuando sea posible\n",
        "    if use_residual and strides == 1 and inputs.shape[-1] == filters:\n",
        "        return Add()([inputs, x])\n",
        "\n",
        "    return x"
      ],
      "metadata": {
        "id": "IdsoqRqUrtKi"
      },
      "execution_count": 11,
      "outputs": []
    },
    {
      "cell_type": "markdown",
      "source": [
        "#Función NAS con Keras Tuner"
      ],
      "metadata": {
        "id": "Y5LFHHMfyIzg"
      }
    },
    {
      "cell_type": "code",
      "source": [
        "def model_builder(hp):\n",
        "    \"\"\"\n",
        "    Función de construcción de modelo para Keras Tuner\n",
        "    Con cuantizaciones específicas compatibles con STM32\n",
        "    \"\"\"\n",
        "    # Definir rangos de hiperparámetros\n",
        "    conv_stages = hp.Int('conv_stages', min_value=2, max_value=4, step=1)\n",
        "    initial_filters = hp.Choice('initial_filters', values=[32, 64])\n",
        "    growth_rate = hp.Choice('growth_rate', values=[1.5, 2.0])\n",
        "    dropout_rate = hp.Float('dropout_rate', min_value=0.0, max_value=0.5, step=0.1)\n",
        "\n",
        "    # Opciones de cuantización compatibles con STM32\n",
        "    # Solo exploramos s8, s1 y f32\n",
        "    layer_precision = hp.Choice('layer_precision', values=[\n",
        "        's1',  # Binario para capas internas\n",
        "        's8',  # 8 bits con signo para mayor precisión\n",
        "    ])\n",
        "\n",
        "    # Mapeo de opciones de precisión a cuantizadores específicos\n",
        "    quantizer_map = {\n",
        "        's1': \"binary(alpha=1)\",\n",
        "        's8': \"quantized_bits(8,0,1)\",\n",
        "    }\n",
        "\n",
        "    # Seleccionar cuantizadores basados en la precisión elegida\n",
        "    hidden_kernel_quantizer = quantizer_map[layer_precision]\n",
        "    hidden_activation = \"binary(alpha=1)\" if layer_precision == 's1' else \"quantized_relu(8)\"\n",
        "\n",
        "    # Primera y última capa siempre con mayor precisión (s8)\n",
        "    first_layer_quantizer = \"quantized_bits(8,0,1)\"\n",
        "    last_layer_quantizer = \"quantized_bits(8,0,1)\"\n",
        "\n",
        "    # Asegurar que el número de canales sea múltiplo de 32 (recomendado para STM32)\n",
        "    def round_filters(filters):\n",
        "        return 32 * max(1, round(filters / 32))\n",
        "\n",
        "    # Input layer\n",
        "    inputs = Input(shape=(x_train_final.shape[1], x_train_final.shape[2], 1))\n",
        "\n",
        "    # Primera capa con mayor precisión (s8)\n",
        "    x = QConv2D(filters=round_filters(initial_filters),\n",
        "                kernel_size=3,\n",
        "                padding='same',\n",
        "                kernel_quantizer=first_layer_quantizer,\n",
        "                bias_quantizer=first_layer_quantizer)(inputs)\n",
        "    x = MaxPooling2D(pool_size=(2, 2))(x)\n",
        "    x = QBatchNormalization()(x)\n",
        "    x = QActivation(\"quantized_relu(8)\")(x)\n",
        "\n",
        "    # Bloques intermedios con escalado progresivo\n",
        "    filters = initial_filters\n",
        "\n",
        "    for i in range(conv_stages):\n",
        "        # Escalar progresivamente - más bloques en etapas posteriores\n",
        "        num_blocks = 1 + i  # 1, 2, 3... bloques por etapa\n",
        "        filters = round_filters(filters * growth_rate)\n",
        "\n",
        "        for j in range(num_blocks):\n",
        "            use_residual = j > 0 and layer_precision != 's1'  # Las capas binarias a veces no funcionan bien con residuales\n",
        "            strides = 1\n",
        "            use_maxpool = (j == num_blocks-1) and (i < conv_stages-1)\n",
        "\n",
        "            # Definir el uso de bias según la cuantización\n",
        "            use_bias = layer_precision != 's1'  # Capas binarias generalmente sin bias\n",
        "\n",
        "            # Capa convolucional con cuantización seleccionada\n",
        "            x_input = x\n",
        "            x = QConv2D(filters=filters,\n",
        "                     kernel_size=3,\n",
        "                     strides=strides,\n",
        "                     padding='same',\n",
        "                     kernel_quantizer=hidden_kernel_quantizer,\n",
        "                     bias_quantizer=hidden_kernel_quantizer if use_bias else None,\n",
        "                     use_bias=use_bias)(x)\n",
        "\n",
        "            # MaxPool antes de BatchNorm (recomendado para STM32)\n",
        "            if use_maxpool:\n",
        "                x = MaxPooling2D(pool_size=(2, 2))(x)\n",
        "\n",
        "            x = QBatchNormalization()(x)\n",
        "            x = QActivation(hidden_activation)(x)\n",
        "\n",
        "            # Conexión residual cuando sea posible\n",
        "            if use_residual and strides == 1 and x_input.shape[-1] == filters:\n",
        "                x = Add()([x_input, x])\n",
        "\n",
        "            # Aplicar Dropout después de cada bloque (excepto el último)\n",
        "            if i < conv_stages - 1 or j < num_blocks - 1:\n",
        "                x = Dropout(dropout_rate)(x)\n",
        "\n",
        "    # Flatten\n",
        "    x = Flatten()(x)\n",
        "\n",
        "    # Capas densas finales con s8\n",
        "    x = QDense(round_filters(128),\n",
        "               kernel_quantizer=last_layer_quantizer,\n",
        "               bias_quantizer=last_layer_quantizer)(x)\n",
        "    x = QBatchNormalization()(x)\n",
        "    x = QActivation(\"quantized_relu(8)\")(x)\n",
        "    x = Dropout(dropout_rate)(x)\n",
        "\n",
        "    # Capa de salida (5 clases) - mantener en alta precisión (s8)\n",
        "    outputs = QDense(5,\n",
        "                    kernel_quantizer=last_layer_quantizer,\n",
        "                    bias_quantizer=last_layer_quantizer,\n",
        "                    activation=\"softmax\")(x)\n",
        "\n",
        "    # Crear y compilar modelo\n",
        "    model = Model(inputs=inputs, outputs=outputs)\n",
        "\n",
        "    # Configurar optimizador con tasa de aprendizaje adaptable\n",
        "    lr = hp.Float('learning_rate', min_value=1e-4, max_value=1e-2, sampling='log')\n",
        "    optimizer = tf.keras.optimizers.Adam(learning_rate=lr)\n",
        "\n",
        "    model.compile(\n",
        "        optimizer=optimizer,\n",
        "        loss='categorical_crossentropy',\n",
        "        metrics=['accuracy']\n",
        "    )\n",
        "\n",
        "    return model"
      ],
      "metadata": {
        "id": "lsS7v2PL0L5k"
      },
      "execution_count": 12,
      "outputs": []
    },
    {
      "cell_type": "markdown",
      "source": [
        "# Definiendo mi metrica compuesta para seleccionar los modelos"
      ],
      "metadata": {
        "id": "a_2l9Xkw3_h-"
      }
    },
    {
      "cell_type": "code",
      "source": [
        "class STM32TunerMultiObjective(kt.BayesianOptimization):\n",
        "    def __init__(self, *args,\n",
        "                 accuracy_weight=0.6,\n",
        "                 model_size_weight=0.2,\n",
        "                 ram_usage_weight=0.2,\n",
        "                 max_parameters=100000,\n",
        "                 max_ram_kb=48,  # Dejamos margen de seguridad para STM32L432KC (64KB total)\n",
        "                 **kwargs):\n",
        "        super().__init__(*args, **kwargs)\n",
        "        self.accuracy_weight = accuracy_weight\n",
        "        self.model_size_weight = model_size_weight\n",
        "        self.ram_usage_weight = ram_usage_weight\n",
        "        self.max_parameters = max_parameters\n",
        "        self.max_ram_kb = max_ram_kb\n",
        "\n",
        "    def run_trial(self, trial, *args, **kwargs):\n",
        "        hp = trial.hyperparameters\n",
        "        model = self.hypermodel.build(hp)\n",
        "\n",
        "        # 1. Evaluar tamaño del modelo\n",
        "        total_params = model.count_params()\n",
        "\n",
        "        # 2. Estimar uso de RAM (heurística aproximada)\n",
        "        # Para modelos cuantizados en STM32, estimamos en base a parámetros y arquitectura\n",
        "        ram_usage_kb = self.estimate_ram_usage(model, hp)\n",
        "\n",
        "        # Si excede los límites, rechazar directamente\n",
        "        if total_params > self.max_parameters or ram_usage_kb > self.max_ram_kb:\n",
        "            print(f\"Modelo rechazado: Params={total_params}, RAM={ram_usage_kb}KB\")\n",
        "            return {\"status\": kt.engine.trial.TrialStatus.INVALID}\n",
        "\n",
        "        # Ejecutar entrenamiento normal\n",
        "        results = super(STM32TunerMultiObjective, self).run_trial(trial, *args, **kwargs)\n",
        "\n",
        "        if results[\"status\"] != kt.engine.trial.TrialStatus.OK:\n",
        "            return results\n",
        "\n",
        "        # Obtener precisión\n",
        "        val_accuracy = results[\"metrics\"][\"val_accuracy\"]\n",
        "\n",
        "        # Calcular puntuación normalizada para cada objetivo\n",
        "        accuracy_score = val_accuracy  # Ya está entre 0-1\n",
        "\n",
        "        # Normalizar tamaño del modelo (invertido: más pequeño es mejor)\n",
        "        size_score = 1.0 - (total_params / self.max_parameters)\n",
        "\n",
        "        # Normalizar uso de RAM (invertido: más pequeño es mejor)\n",
        "        ram_score = 1.0 - (ram_usage_kb / self.max_ram_kb)\n",
        "\n",
        "        # Calcular puntuación compuesta\n",
        "        composite_score = (\n",
        "            self.accuracy_weight * accuracy_score +\n",
        "            self.model_size_weight * size_score +\n",
        "            self.ram_usage_weight * ram_score\n",
        "        )\n",
        "\n",
        "        # Mostrar información detallada\n",
        "        print(f\"\\nModelo evaluado:\")\n",
        "        print(f\"- Precisión: {val_accuracy:.4f} → Score: {accuracy_score:.4f}\")\n",
        "        print(f\"- Parámetros: {total_params:,} → Score: {size_score:.4f}\")\n",
        "        print(f\"- RAM est.: {ram_usage_kb:.1f}KB → Score: {ram_score:.4f}\")\n",
        "        print(f\"- Puntuación total: {composite_score:.4f}\\n\")\n",
        "\n",
        "        # Sobreescribir la métrica objetivo con nuestra puntuación compuesta\n",
        "        results[\"score\"] = composite_score\n",
        "        return results\n",
        "\n",
        "    def estimate_ram_usage(self, model, hp):\n",
        "        \"\"\"\n",
        "        Estima uso de RAM en KB durante inferencia, específico para STM32\n",
        "        \"\"\"\n",
        "        # Configuración del modelo\n",
        "        layer_precision = hp.get('layer_precision', 's8')\n",
        "        total_params = model.count_params()\n",
        "\n",
        "        # Calcular número aproximado de activaciones\n",
        "        activation_memory = 0\n",
        "        intermediate_shapes = []\n",
        "\n",
        "        # Calculamos formas intermedias para estimar\n",
        "        x = tf.keras.layers.Input(shape=(x_train_final.shape[1], x_train_final.shape[2], 1))\n",
        "        for layer in model.layers[1:]:  # Saltamos la capa de entrada\n",
        "            if hasattr(layer, 'input_shape') and hasattr(layer, 'output_shape'):\n",
        "                if isinstance(layer.output_shape, tuple):\n",
        "                    shape = layer.output_shape[1:]  # Ignorar dimensión de batch\n",
        "                    size = np.prod(shape)\n",
        "                    intermediate_shapes.append(size)\n",
        "\n",
        "        # Bits por activación según precisión\n",
        "        bits_per_activation = 1 if layer_precision == 's1' else 8\n",
        "\n",
        "        # Estimamos memoria para activaciones (factor de ajuste empírico)\n",
        "        activation_memory = sum(intermediate_shapes) * bits_per_activation / 8 / 1024\n",
        "\n",
        "        # Memoria para parámetros del modelo\n",
        "        if layer_precision == 's1':\n",
        "            # Modelos binarios son muy eficientes en memoria\n",
        "            params_memory = total_params * 1 / 8 / 1024  # 1 bit por parámetro\n",
        "        else:\n",
        "            # s8 usa 8 bits por parámetro\n",
        "            params_memory = total_params * 8 / 8 / 1024\n",
        "\n",
        "        # Memoria para buffers de trabajo (estimación)\n",
        "        working_memory = 10  # ~10KB base aproximada para STM32Cube.AI runtime\n",
        "\n",
        "        # Total memoria estimada\n",
        "        total_memory = params_memory + activation_memory + working_memory\n",
        "\n",
        "        return total_memory"
      ],
      "metadata": {
        "id": "BXgr9Ysy4KYg"
      },
      "execution_count": 13,
      "outputs": []
    },
    {
      "cell_type": "markdown",
      "source": [
        "# Ejecución de la búsqueda de la arquitectura"
      ],
      "metadata": {
        "id": "fvSsrL0e4P5N"
      }
    },
    {
      "cell_type": "code",
      "source": [
        "def run_nas():\n",
        "    \"\"\"\n",
        "    Ejecuta la búsqueda de arquitectura con criterios balanceados para STM32\n",
        "    \"\"\"\n",
        "    # Usar nuestro Tuner personalizado con pesos configurables para cada objetivo\n",
        "    tuner = STM32TunerMultiObjective(\n",
        "        model_builder,\n",
        "        objective='val_accuracy',  # Seguimos necesitando esto como referencia\n",
        "        max_trials=30,\n",
        "        directory='nas_results',\n",
        "        project_name='dqnn_escalogramas_stm32',\n",
        "        # Configuración de pesos para balancear los objetivos\n",
        "        accuracy_weight=0.6,     # 60% importancia a precisión\n",
        "        model_size_weight=0.2,   # 20% importancia a tamaño de modelo\n",
        "        ram_usage_weight=0.2,    # 20% importancia a uso de RAM\n",
        "        # Límites específicos para STM32L432KC\n",
        "        max_parameters=100000,   # Límite de parámetros\n",
        "        max_ram_kb=48            # Límite de RAM en KB (con margen)\n",
        "    )\n",
        "\n",
        "    # Resto del código igual...\n",
        "    callbacks = [\n",
        "        EarlyStopping(monitor='val_loss', patience=10, restore_best_weights=True),\n",
        "        ReduceLROnPlateau(factor=0.2, patience=5)\n",
        "    ]\n",
        "\n",
        "    # Ejecutar búsqueda (igual)\n",
        "    tuner.search(\n",
        "        x_train_final, y_train_final,\n",
        "        validation_data=(x_val, y_val),\n",
        "        epochs=50,\n",
        "        batch_size=64,\n",
        "        callbacks=callbacks\n",
        "    )\n",
        "\n",
        "    # Obtener mejor modelo según puntuación compuesta\n",
        "    best_model = tuner.get_best_models(1)[0]\n",
        "    best_hps = tuner.get_best_hyperparameters(1)[0]\n",
        "\n",
        "    # Mostrar detalles del mejor modelo\n",
        "    print(\"\\n=== MEJOR MODELO ENCONTRADO ===\")\n",
        "    print(f\"Etapas convolucionales: {best_hps.get('conv_stages')}\")\n",
        "    print(f\"Filtros iniciales: {best_hps.get('initial_filters')}\")\n",
        "    print(f\"Tasa de crecimiento: {best_hps.get('growth_rate')}\")\n",
        "    print(f\"Precisión de capa: {best_hps.get('layer_precision')}\")\n",
        "    print(f\"Total parámetros: {best_model.count_params():,}\")\n",
        "\n",
        "    # Estimar huella de memoria\n",
        "    ram_usage = tuner.estimate_ram_usage(best_model, best_hps)\n",
        "    print(f\"RAM estimada: {ram_usage:.2f} KB\")\n",
        "\n",
        "    return best_model, best_hps"
      ],
      "metadata": {
        "id": "MLOGvCGv4a9L"
      },
      "execution_count": 14,
      "outputs": []
    },
    {
      "cell_type": "markdown",
      "source": [
        "# Entrenamiento y evaluación"
      ],
      "metadata": {
        "id": "3cOGw1Vi5hGu"
      }
    },
    {
      "cell_type": "code",
      "source": [
        "\n",
        "# Ejecutar NAS\n",
        "best_model, best_hps = run_nas()\n",
        "\n",
        "# Entrenar mejor modelo con toda la configuración\n",
        "callbacks = [\n",
        "    EarlyStopping(patience=15, restore_best_weights=True),\n",
        "    ReduceLROnPlateau(factor=0.1, patience=7),\n",
        "    ModelCheckpoint('best_dqnn_model.h5', save_best_only=True)\n",
        "]\n",
        "\n",
        "history = best_model.fit(\n",
        "    x_train_final, y_train_final,\n",
        "    validation_data=(x_val, y_val),\n",
        "    epochs=100,\n",
        "    batch_size=64,\n",
        "    callbacks=callbacks\n",
        ")\n",
        "\n",
        "# Evaluar modelo\n",
        "test_loss, test_acc = best_model.evaluate(x_test, y_test)\n",
        "print(f\"Precisión en conjunto de prueba: {test_acc:.4f}\")\n",
        "\n",
        "# Visualizar\n",
        "plt.figure(figsize=(12, 4))\n",
        "plt.subplot(1, 2, 1)\n",
        "plt.plot(history.history['accuracy'])\n",
        "plt.plot(history.history['val_accuracy'])\n",
        "plt.title('Precisión del modelo')\n",
        "plt.ylabel('Precisión')\n",
        "plt.xlabel('Época')\n",
        "plt.legend(['Train', 'Validación'], loc='lower right')\n",
        "\n",
        "plt.subplot(1, 2, 2)\n",
        "plt.plot(history.history['loss'])\n",
        "plt.plot(history.history['val_loss'])\n",
        "plt.title('Pérdida del modelo')\n",
        "plt.ylabel('Pérdida')\n",
        "plt.xlabel('Época')\n",
        "plt.legend(['Train', 'Validación'], loc='upper right')\n",
        "plt.show()"
      ],
      "metadata": {
        "colab": {
          "base_uri": "https://localhost:8080/",
          "height": 397
        },
        "id": "Xn5icfPf5yVc",
        "outputId": "ae4df10f-9c9d-444b-94ac-4e7bf9ae7941"
      },
      "execution_count": 15,
      "outputs": [
        {
          "output_type": "error",
          "ename": "ValueError",
          "evalue": "Unrecognized keyword arguments passed to QBatchNormalization: {'fused': False, 'renorm': False, 'virtual_batch_size': None, 'adjustment': None}",
          "traceback": [
            "\u001b[0;31m---------------------------------------------------------------------------\u001b[0m",
            "\u001b[0;31mValueError\u001b[0m                                Traceback (most recent call last)",
            "\u001b[0;32m<ipython-input-15-5ddc1f8c9ee9>\u001b[0m in \u001b[0;36m<cell line: 0>\u001b[0;34m()\u001b[0m\n\u001b[1;32m      1\u001b[0m \u001b[0;31m# Ejecutar NAS\u001b[0m\u001b[0;34m\u001b[0m\u001b[0;34m\u001b[0m\u001b[0m\n\u001b[0;32m----> 2\u001b[0;31m \u001b[0mbest_model\u001b[0m\u001b[0;34m,\u001b[0m \u001b[0mbest_hps\u001b[0m \u001b[0;34m=\u001b[0m \u001b[0mrun_nas\u001b[0m\u001b[0;34m(\u001b[0m\u001b[0;34m)\u001b[0m\u001b[0;34m\u001b[0m\u001b[0;34m\u001b[0m\u001b[0m\n\u001b[0m\u001b[1;32m      3\u001b[0m \u001b[0;34m\u001b[0m\u001b[0m\n\u001b[1;32m      4\u001b[0m \u001b[0;31m# Entrenar mejor modelo con toda la configuración\u001b[0m\u001b[0;34m\u001b[0m\u001b[0;34m\u001b[0m\u001b[0m\n\u001b[1;32m      5\u001b[0m callbacks = [\n",
            "\u001b[0;32m<ipython-input-14-0e10c832552a>\u001b[0m in \u001b[0;36mrun_nas\u001b[0;34m()\u001b[0m\n\u001b[1;32m      4\u001b[0m     \"\"\"\n\u001b[1;32m      5\u001b[0m     \u001b[0;31m# Usar nuestro Tuner personalizado con pesos configurables para cada objetivo\u001b[0m\u001b[0;34m\u001b[0m\u001b[0;34m\u001b[0m\u001b[0m\n\u001b[0;32m----> 6\u001b[0;31m     tuner = STM32TunerMultiObjective(\n\u001b[0m\u001b[1;32m      7\u001b[0m         \u001b[0mmodel_builder\u001b[0m\u001b[0;34m,\u001b[0m\u001b[0;34m\u001b[0m\u001b[0;34m\u001b[0m\u001b[0m\n\u001b[1;32m      8\u001b[0m         \u001b[0mobjective\u001b[0m\u001b[0;34m=\u001b[0m\u001b[0;34m'val_accuracy'\u001b[0m\u001b[0;34m,\u001b[0m  \u001b[0;31m# Seguimos necesitando esto como referencia\u001b[0m\u001b[0;34m\u001b[0m\u001b[0;34m\u001b[0m\u001b[0m\n",
            "\u001b[0;32m<ipython-input-13-443cf19588ca>\u001b[0m in \u001b[0;36m__init__\u001b[0;34m(self, accuracy_weight, model_size_weight, ram_usage_weight, max_parameters, max_ram_kb, *args, **kwargs)\u001b[0m\n\u001b[1;32m      7\u001b[0m                  \u001b[0mmax_ram_kb\u001b[0m\u001b[0;34m=\u001b[0m\u001b[0;36m48\u001b[0m\u001b[0;34m,\u001b[0m  \u001b[0;31m# Dejamos margen de seguridad para STM32L432KC (64KB total)\u001b[0m\u001b[0;34m\u001b[0m\u001b[0;34m\u001b[0m\u001b[0m\n\u001b[1;32m      8\u001b[0m                  **kwargs):\n\u001b[0;32m----> 9\u001b[0;31m         \u001b[0msuper\u001b[0m\u001b[0;34m(\u001b[0m\u001b[0;34m)\u001b[0m\u001b[0;34m.\u001b[0m\u001b[0m__init__\u001b[0m\u001b[0;34m(\u001b[0m\u001b[0;34m*\u001b[0m\u001b[0margs\u001b[0m\u001b[0;34m,\u001b[0m \u001b[0;34m**\u001b[0m\u001b[0mkwargs\u001b[0m\u001b[0;34m)\u001b[0m\u001b[0;34m\u001b[0m\u001b[0;34m\u001b[0m\u001b[0m\n\u001b[0m\u001b[1;32m     10\u001b[0m         \u001b[0mself\u001b[0m\u001b[0;34m.\u001b[0m\u001b[0maccuracy_weight\u001b[0m \u001b[0;34m=\u001b[0m \u001b[0maccuracy_weight\u001b[0m\u001b[0;34m\u001b[0m\u001b[0;34m\u001b[0m\u001b[0m\n\u001b[1;32m     11\u001b[0m         \u001b[0mself\u001b[0m\u001b[0;34m.\u001b[0m\u001b[0mmodel_size_weight\u001b[0m \u001b[0;34m=\u001b[0m \u001b[0mmodel_size_weight\u001b[0m\u001b[0;34m\u001b[0m\u001b[0;34m\u001b[0m\u001b[0m\n",
            "\u001b[0;32m/usr/local/lib/python3.11/dist-packages/keras_tuner/src/tuners/bayesian.py\u001b[0m in \u001b[0;36m__init__\u001b[0;34m(self, hypermodel, objective, max_trials, num_initial_points, alpha, beta, seed, hyperparameters, tune_new_entries, allow_new_entries, max_retries_per_trial, max_consecutive_failed_trials, **kwargs)\u001b[0m\n\u001b[1;32m    392\u001b[0m             \u001b[0mmax_consecutive_failed_trials\u001b[0m\u001b[0;34m=\u001b[0m\u001b[0mmax_consecutive_failed_trials\u001b[0m\u001b[0;34m,\u001b[0m\u001b[0;34m\u001b[0m\u001b[0;34m\u001b[0m\u001b[0m\n\u001b[1;32m    393\u001b[0m         )\n\u001b[0;32m--> 394\u001b[0;31m         \u001b[0msuper\u001b[0m\u001b[0;34m(\u001b[0m\u001b[0;34m)\u001b[0m\u001b[0;34m.\u001b[0m\u001b[0m__init__\u001b[0m\u001b[0;34m(\u001b[0m\u001b[0moracle\u001b[0m\u001b[0;34m=\u001b[0m\u001b[0moracle\u001b[0m\u001b[0;34m,\u001b[0m \u001b[0mhypermodel\u001b[0m\u001b[0;34m=\u001b[0m\u001b[0mhypermodel\u001b[0m\u001b[0;34m,\u001b[0m \u001b[0;34m**\u001b[0m\u001b[0mkwargs\u001b[0m\u001b[0;34m)\u001b[0m\u001b[0;34m\u001b[0m\u001b[0;34m\u001b[0m\u001b[0m\n\u001b[0m\u001b[1;32m    395\u001b[0m \u001b[0;34m\u001b[0m\u001b[0m\n",
            "\u001b[0;32m/usr/local/lib/python3.11/dist-packages/keras_tuner/src/engine/tuner.py\u001b[0m in \u001b[0;36m__init__\u001b[0;34m(self, oracle, hypermodel, max_model_size, optimizer, loss, metrics, distribution_strategy, directory, project_name, logger, tuner_id, overwrite, executions_per_trial, **kwargs)\u001b[0m\n\u001b[1;32m    120\u001b[0m             )\n\u001b[1;32m    121\u001b[0m \u001b[0;34m\u001b[0m\u001b[0m\n\u001b[0;32m--> 122\u001b[0;31m         super().__init__(\n\u001b[0m\u001b[1;32m    123\u001b[0m             \u001b[0moracle\u001b[0m\u001b[0;34m=\u001b[0m\u001b[0moracle\u001b[0m\u001b[0;34m,\u001b[0m\u001b[0;34m\u001b[0m\u001b[0;34m\u001b[0m\u001b[0m\n\u001b[1;32m    124\u001b[0m             \u001b[0mhypermodel\u001b[0m\u001b[0;34m=\u001b[0m\u001b[0mhypermodel\u001b[0m\u001b[0;34m,\u001b[0m\u001b[0;34m\u001b[0m\u001b[0;34m\u001b[0m\u001b[0m\n",
            "\u001b[0;32m/usr/local/lib/python3.11/dist-packages/keras_tuner/src/engine/base_tuner.py\u001b[0m in \u001b[0;36m__init__\u001b[0;34m(self, oracle, hypermodel, directory, project_name, overwrite, **kwargs)\u001b[0m\n\u001b[1;32m    130\u001b[0m         \u001b[0;32melse\u001b[0m\u001b[0;34m:\u001b[0m\u001b[0;34m\u001b[0m\u001b[0;34m\u001b[0m\u001b[0m\n\u001b[1;32m    131\u001b[0m             \u001b[0;31m# Only populate initial space if not reloading.\u001b[0m\u001b[0;34m\u001b[0m\u001b[0;34m\u001b[0m\u001b[0m\n\u001b[0;32m--> 132\u001b[0;31m             \u001b[0mself\u001b[0m\u001b[0;34m.\u001b[0m\u001b[0m_populate_initial_space\u001b[0m\u001b[0;34m(\u001b[0m\u001b[0;34m)\u001b[0m\u001b[0;34m\u001b[0m\u001b[0;34m\u001b[0m\u001b[0m\n\u001b[0m\u001b[1;32m    133\u001b[0m \u001b[0;34m\u001b[0m\u001b[0m\n\u001b[1;32m    134\u001b[0m         \u001b[0;31m# Run in distributed mode.\u001b[0m\u001b[0;34m\u001b[0m\u001b[0;34m\u001b[0m\u001b[0m\n",
            "\u001b[0;32m/usr/local/lib/python3.11/dist-packages/keras_tuner/src/engine/base_tuner.py\u001b[0m in \u001b[0;36m_populate_initial_space\u001b[0;34m(self)\u001b[0m\n\u001b[1;32m    190\u001b[0m         \u001b[0mself\u001b[0m\u001b[0;34m.\u001b[0m\u001b[0mhypermodel\u001b[0m\u001b[0;34m.\u001b[0m\u001b[0mdeclare_hyperparameters\u001b[0m\u001b[0;34m(\u001b[0m\u001b[0mhp\u001b[0m\u001b[0;34m)\u001b[0m\u001b[0;34m\u001b[0m\u001b[0;34m\u001b[0m\u001b[0m\n\u001b[1;32m    191\u001b[0m         \u001b[0mself\u001b[0m\u001b[0;34m.\u001b[0m\u001b[0moracle\u001b[0m\u001b[0;34m.\u001b[0m\u001b[0mupdate_space\u001b[0m\u001b[0;34m(\u001b[0m\u001b[0mhp\u001b[0m\u001b[0;34m)\u001b[0m\u001b[0;34m\u001b[0m\u001b[0;34m\u001b[0m\u001b[0m\n\u001b[0;32m--> 192\u001b[0;31m         \u001b[0mself\u001b[0m\u001b[0;34m.\u001b[0m\u001b[0m_activate_all_conditions\u001b[0m\u001b[0;34m(\u001b[0m\u001b[0;34m)\u001b[0m\u001b[0;34m\u001b[0m\u001b[0;34m\u001b[0m\u001b[0m\n\u001b[0m\u001b[1;32m    193\u001b[0m \u001b[0;34m\u001b[0m\u001b[0m\n\u001b[1;32m    194\u001b[0m     \u001b[0;32mdef\u001b[0m \u001b[0msearch\u001b[0m\u001b[0;34m(\u001b[0m\u001b[0mself\u001b[0m\u001b[0;34m,\u001b[0m \u001b[0;34m*\u001b[0m\u001b[0mfit_args\u001b[0m\u001b[0;34m,\u001b[0m \u001b[0;34m**\u001b[0m\u001b[0mfit_kwargs\u001b[0m\u001b[0;34m)\u001b[0m\u001b[0;34m:\u001b[0m\u001b[0;34m\u001b[0m\u001b[0;34m\u001b[0m\u001b[0m\n",
            "\u001b[0;32m/usr/local/lib/python3.11/dist-packages/keras_tuner/src/engine/base_tuner.py\u001b[0m in \u001b[0;36m_activate_all_conditions\u001b[0;34m(self)\u001b[0m\n\u001b[1;32m    147\u001b[0m         \u001b[0mhp\u001b[0m \u001b[0;34m=\u001b[0m \u001b[0mself\u001b[0m\u001b[0;34m.\u001b[0m\u001b[0moracle\u001b[0m\u001b[0;34m.\u001b[0m\u001b[0mget_space\u001b[0m\u001b[0;34m(\u001b[0m\u001b[0;34m)\u001b[0m\u001b[0;34m\u001b[0m\u001b[0;34m\u001b[0m\u001b[0m\n\u001b[1;32m    148\u001b[0m         \u001b[0;32mwhile\u001b[0m \u001b[0;32mTrue\u001b[0m\u001b[0;34m:\u001b[0m\u001b[0;34m\u001b[0m\u001b[0;34m\u001b[0m\u001b[0m\n\u001b[0;32m--> 149\u001b[0;31m             \u001b[0mself\u001b[0m\u001b[0;34m.\u001b[0m\u001b[0mhypermodel\u001b[0m\u001b[0;34m.\u001b[0m\u001b[0mbuild\u001b[0m\u001b[0;34m(\u001b[0m\u001b[0mhp\u001b[0m\u001b[0;34m)\u001b[0m\u001b[0;34m\u001b[0m\u001b[0;34m\u001b[0m\u001b[0m\n\u001b[0m\u001b[1;32m    150\u001b[0m             \u001b[0mself\u001b[0m\u001b[0;34m.\u001b[0m\u001b[0moracle\u001b[0m\u001b[0;34m.\u001b[0m\u001b[0mupdate_space\u001b[0m\u001b[0;34m(\u001b[0m\u001b[0mhp\u001b[0m\u001b[0;34m)\u001b[0m\u001b[0;34m\u001b[0m\u001b[0;34m\u001b[0m\u001b[0m\n\u001b[1;32m    151\u001b[0m \u001b[0;34m\u001b[0m\u001b[0m\n",
            "\u001b[0;32m<ipython-input-12-ef3bf107550a>\u001b[0m in \u001b[0;36mmodel_builder\u001b[0;34m(hp)\u001b[0m\n\u001b[1;32m     45\u001b[0m                 bias_quantizer=first_layer_quantizer)(inputs)\n\u001b[1;32m     46\u001b[0m     \u001b[0mx\u001b[0m \u001b[0;34m=\u001b[0m \u001b[0mMaxPooling2D\u001b[0m\u001b[0;34m(\u001b[0m\u001b[0mpool_size\u001b[0m\u001b[0;34m=\u001b[0m\u001b[0;34m(\u001b[0m\u001b[0;36m2\u001b[0m\u001b[0;34m,\u001b[0m \u001b[0;36m2\u001b[0m\u001b[0;34m)\u001b[0m\u001b[0;34m)\u001b[0m\u001b[0;34m(\u001b[0m\u001b[0mx\u001b[0m\u001b[0;34m)\u001b[0m\u001b[0;34m\u001b[0m\u001b[0;34m\u001b[0m\u001b[0m\n\u001b[0;32m---> 47\u001b[0;31m     \u001b[0mx\u001b[0m \u001b[0;34m=\u001b[0m \u001b[0mQBatchNormalization\u001b[0m\u001b[0;34m(\u001b[0m\u001b[0;34m)\u001b[0m\u001b[0;34m(\u001b[0m\u001b[0mx\u001b[0m\u001b[0;34m)\u001b[0m\u001b[0;34m\u001b[0m\u001b[0;34m\u001b[0m\u001b[0m\n\u001b[0m\u001b[1;32m     48\u001b[0m     \u001b[0mx\u001b[0m \u001b[0;34m=\u001b[0m \u001b[0mQActivation\u001b[0m\u001b[0;34m(\u001b[0m\u001b[0;34m\"quantized_relu(8)\"\u001b[0m\u001b[0;34m)\u001b[0m\u001b[0;34m(\u001b[0m\u001b[0mx\u001b[0m\u001b[0;34m)\u001b[0m\u001b[0;34m\u001b[0m\u001b[0;34m\u001b[0m\u001b[0m\n\u001b[1;32m     49\u001b[0m \u001b[0;34m\u001b[0m\u001b[0m\n",
            "\u001b[0;32m/usr/local/lib/python3.11/dist-packages/qkeras/qnormalization.py\u001b[0m in \u001b[0;36m__init__\u001b[0;34m(self, axis, momentum, epsilon, center, scale, activation, beta_initializer, gamma_initializer, moving_mean_initializer, moving_variance_initializer, beta_regularizer, gamma_regularizer, beta_quantizer, gamma_quantizer, mean_quantizer, variance_quantizer, gamma_constraint, beta_constraint, beta_range, gamma_range, **kwargs)\u001b[0m\n\u001b[1;32m    147\u001b[0m       \u001b[0;32mdel\u001b[0m \u001b[0mkwargs\u001b[0m\u001b[0;34m[\u001b[0m\u001b[0;34m'adjustment'\u001b[0m\u001b[0;34m]\u001b[0m\u001b[0;34m\u001b[0m\u001b[0;34m\u001b[0m\u001b[0m\n\u001b[1;32m    148\u001b[0m \u001b[0;34m\u001b[0m\u001b[0m\n\u001b[0;32m--> 149\u001b[0;31m     super(QBatchNormalization, self).__init__(\n\u001b[0m\u001b[1;32m    150\u001b[0m         \u001b[0maxis\u001b[0m\u001b[0;34m=\u001b[0m\u001b[0maxis\u001b[0m\u001b[0;34m,\u001b[0m\u001b[0;34m\u001b[0m\u001b[0;34m\u001b[0m\u001b[0m\n\u001b[1;32m    151\u001b[0m         \u001b[0mmomentum\u001b[0m\u001b[0;34m=\u001b[0m\u001b[0mmomentum\u001b[0m\u001b[0;34m,\u001b[0m\u001b[0;34m\u001b[0m\u001b[0;34m\u001b[0m\u001b[0m\n",
            "\u001b[0;32m/usr/local/lib/python3.11/dist-packages/keras/src/layers/normalization/batch_normalization.py\u001b[0m in \u001b[0;36m__init__\u001b[0;34m(self, axis, momentum, epsilon, center, scale, beta_initializer, gamma_initializer, moving_mean_initializer, moving_variance_initializer, beta_regularizer, gamma_regularizer, beta_constraint, gamma_constraint, synchronized, **kwargs)\u001b[0m\n\u001b[1;32m    140\u001b[0m         \u001b[0;34m**\u001b[0m\u001b[0mkwargs\u001b[0m\u001b[0;34m,\u001b[0m\u001b[0;34m\u001b[0m\u001b[0;34m\u001b[0m\u001b[0m\n\u001b[1;32m    141\u001b[0m     ):\n\u001b[0;32m--> 142\u001b[0;31m         \u001b[0msuper\u001b[0m\u001b[0;34m(\u001b[0m\u001b[0;34m)\u001b[0m\u001b[0;34m.\u001b[0m\u001b[0m__init__\u001b[0m\u001b[0;34m(\u001b[0m\u001b[0;34m**\u001b[0m\u001b[0mkwargs\u001b[0m\u001b[0;34m)\u001b[0m\u001b[0;34m\u001b[0m\u001b[0;34m\u001b[0m\u001b[0m\n\u001b[0m\u001b[1;32m    143\u001b[0m         \u001b[0mself\u001b[0m\u001b[0;34m.\u001b[0m\u001b[0maxis\u001b[0m \u001b[0;34m=\u001b[0m \u001b[0mint\u001b[0m\u001b[0;34m(\u001b[0m\u001b[0maxis\u001b[0m\u001b[0;34m)\u001b[0m\u001b[0;34m\u001b[0m\u001b[0;34m\u001b[0m\u001b[0m\n\u001b[1;32m    144\u001b[0m \u001b[0;34m\u001b[0m\u001b[0m\n",
            "\u001b[0;32m/usr/local/lib/python3.11/dist-packages/keras/src/layers/layer.py\u001b[0m in \u001b[0;36m__init__\u001b[0;34m(self, activity_regularizer, trainable, dtype, autocast, name, **kwargs)\u001b[0m\n\u001b[1;32m    285\u001b[0m             \u001b[0mself\u001b[0m\u001b[0;34m.\u001b[0m\u001b[0m_input_shape_arg\u001b[0m \u001b[0;34m=\u001b[0m \u001b[0minput_shape_arg\u001b[0m\u001b[0;34m\u001b[0m\u001b[0;34m\u001b[0m\u001b[0m\n\u001b[1;32m    286\u001b[0m         \u001b[0;32mif\u001b[0m \u001b[0mkwargs\u001b[0m\u001b[0;34m:\u001b[0m\u001b[0;34m\u001b[0m\u001b[0;34m\u001b[0m\u001b[0m\n\u001b[0;32m--> 287\u001b[0;31m             raise ValueError(\n\u001b[0m\u001b[1;32m    288\u001b[0m                 \u001b[0;34m\"Unrecognized keyword arguments \"\u001b[0m\u001b[0;34m\u001b[0m\u001b[0;34m\u001b[0m\u001b[0m\n\u001b[1;32m    289\u001b[0m                 \u001b[0;34mf\"passed to {self.__class__.__name__}: {kwargs}\"\u001b[0m\u001b[0;34m\u001b[0m\u001b[0;34m\u001b[0m\u001b[0m\n",
            "\u001b[0;31mValueError\u001b[0m: Unrecognized keyword arguments passed to QBatchNormalization: {'fused': False, 'renorm': False, 'virtual_batch_size': None, 'adjustment': None}"
          ]
        }
      ]
    }
  ]
}